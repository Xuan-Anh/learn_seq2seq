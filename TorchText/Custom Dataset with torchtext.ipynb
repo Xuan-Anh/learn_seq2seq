{
 "cells": [
  {
   "cell_type": "markdown",
   "metadata": {},
   "source": [
    "TorchText có các hàm giúp chúng ta xây dựng Dataset từ dữ liệu bên ngoài \n"
   ]
  },
  {
   "cell_type": "code",
   "execution_count": 1,
   "metadata": {},
   "outputs": [],
   "source": [
    "# ! pip install torchtext==0.9.1\n",
    "# Nên dùng bản 0.9 "
   ]
  },
  {
   "cell_type": "markdown",
   "metadata": {},
   "source": [
    "# Xử lý data ở dạng json "
   ]
  },
  {
   "cell_type": "code",
   "execution_count": 2,
   "metadata": {},
   "outputs": [],
   "source": [
    "import torch\n",
    "from torchtext.legacy import data, datasets"
   ]
  },
  {
   "cell_type": "code",
   "execution_count": 3,
   "metadata": {},
   "outputs": [],
   "source": [
    "NAME = data.Field()\n",
    "PLACE = data.Field()\n",
    "SAYING = data.Field()"
   ]
  },
  {
   "cell_type": "markdown",
   "metadata": {},
   "source": [
    "Tiếp theo ta cần thông báo cho torchtext trường hợp nào áp dụng cho `json` nào "
   ]
  },
  {
   "cell_type": "markdown",
   "metadata": {},
   "source": [
    "Ta truy cập trường `TEXT` và `LABEL` trong quá trình train/evaluation bằng cách sử dụng `batch.text` và `batch.label`. Ta truy cập được vào do torchtext đã có sẵn 2 attribute `TEXT` và `LABEL` trong class, mỗi `attrabute` là một tensor chứa text và label \n"
   ]
  },
  {
   "cell_type": "markdown",
   "metadata": {},
   "source": [
    "Một sóo lưu ý quan trọng: \n",
    " - Thứ tự của Key trong dictionary `fields` không quan trọng, nhưng nó phải match với keys trong json data\n",
    " - Tên của Fields khônng nhất thiết phải match với keys trong json object Ví dụ ta có thể sử dụng PLACE thay cho trường location \n",
    " - Nếu values của json là string, Fields tokeniztion sẽ được áp dụng lên nó (mặc định sẽ là ngăn cách bởi spaces). Tuy nhiên, nếu values là một list, tokenization sẽ không được áp dụng lên nó \n",
    " ta có thể sử dụng `Field` để tokenize data. Ví dụ: \n",
    "  ```python\n",
    "    TEXT = Field(tokenize=get_tokenizer(\"basic_english\"))\n",
    "    ```\n",
    "    - Nếu ta muốn sử dụng `Field` để tokenize data, ta cần phải sử dụng `Field` cho cả text và label. Ví dụ:\n",
    "    ```python\n",
    "    TEXT = Field(tokenize=get_tokenizer(\"basic_english\"))\n",
    "    LABEL = Field(sequential=False)\n",
    "    fields = {\"text\": (\"text\", TEXT), \"label\": (\"label\", LABEL)}\n",
    "    ```\n",
    "- Thông thường, ta nên tokenize data trước giúp tiết kiệm thời gian để torchtext không cần tokenize nữa \n",
    "- Value trong các trường của json không nhất thiết phải cùng 1 kiểu \n",
    "- Nếu sử dụng trường trong json, tất cả các single example phải là instance của trường đó. Trong ví dụ dưới đây, tất cả các example phải có NAME, LOCATION, QUOTE. Tuy nhiên, không ta không dùng trường AGE nên examples thiếu trường AGE cũng không ảnh hưởng gì \n",
    "\n"
   ]
  },
  {
   "cell_type": "code",
   "execution_count": 4,
   "metadata": {},
   "outputs": [],
   "source": [
    "fields = {'name': (\"n\", NAME), 'location': ('p', PLACE), 'quote': ('s', SAYING)} "
   ]
  },
  {
   "cell_type": "markdown",
   "metadata": {},
   "source": [
    "Bây giờ trong training loop ta có thể lặp iterator và truy cập tên thông qua batch.n, location thông qua batch.p, và quote thông qua batch.s"
   ]
  },
  {
   "cell_type": "code",
   "execution_count": 20,
   "metadata": {},
   "outputs": [],
   "source": [
    "train_data, test_data  = data.TabularDataset.splits(path = '../data', # chọn nơi lưu data\n",
    "                                                    train = 'train.json',       # tên file trong thư mục lưu cho train \n",
    "                                                    test = 'test.json',        # tên file trong thư mục lưu cho test\n",
    "                                                    format = 'json', # định dạng file\n",
    "                                                    fields = fields # các trường dữ liệu\n",
    "                                                    ) \n",
    "\n"
   ]
  },
  {
   "cell_type": "code",
   "execution_count": null,
   "metadata": {},
   "outputs": [],
   "source": []
  },
  {
   "cell_type": "markdown",
   "metadata": {},
   "source": [
    "lưu ý: ở đây các tên trường (field names)  là n, p, s khớp với những gì đc define trong `fields` dictionary \n"
   ]
  },
  {
   "cell_type": "markdown",
   "metadata": {},
   "source": [
    "bên cạnh đó cần chú ý, từ \"United Kingdom\" trong p được tokenize trong khi \"united kingdom\" trong s không được tokenize. lý do là TorchText sẽ không áp dụng tokenize khi value có kiểu dữ liệu là list "
   ]
  },
  {
   "cell_type": "code",
   "execution_count": 19,
   "metadata": {},
   "outputs": [
    {
     "data": {
      "text/plain": [
       "{'n': ['John'],\n",
       " 'p': ['United', 'Kingdom'],\n",
       " 's': ['i', 'love', 'the', 'united kingdom']}"
      ]
     },
     "execution_count": 19,
     "metadata": {},
     "output_type": "execute_result"
    }
   ],
   "source": [
    "vars(train_data[0]) "
   ]
  },
  {
   "cell_type": "markdown",
   "metadata": {},
   "source": [
    "Từ bây giờ, ta có thể sử dụng train_data, test_data, và valid_data để xây dựng vocabulary và tạo iterators. Ta có thể sử dụng các attribute  bằng cách sử dụng batch.n, batch.p và  batch.s để lấy name.s places và sayings "
   ]
  },
  {
   "cell_type": "code",
   "execution_count": 23,
   "metadata": {},
   "outputs": [
    {
     "data": {
      "text/plain": [
       "<torchtext.legacy.data.dataset.TabularDataset at 0x2ad2b4d15c8>"
      ]
     },
     "execution_count": 23,
     "metadata": {},
     "output_type": "execute_result"
    }
   ],
   "source": [
    "train_data "
   ]
  },
  {
   "cell_type": "markdown",
   "metadata": {},
   "source": [
    "Reading CSV/TSV "
   ]
  }
 ],
 "metadata": {
  "kernelspec": {
   "display_name": "Python 3.7.15 ('xanh_37')",
   "language": "python",
   "name": "python3"
  },
  "language_info": {
   "codemirror_mode": {
    "name": "ipython",
    "version": 3
   },
   "file_extension": ".py",
   "mimetype": "text/x-python",
   "name": "python",
   "nbconvert_exporter": "python",
   "pygments_lexer": "ipython3",
   "version": "3.7.15"
  },
  "orig_nbformat": 4,
  "vscode": {
   "interpreter": {
    "hash": "ca7ca78d5c890fe957272603819ed0912ac5f0e085065e24c069f9d9be9e0df3"
   }
  }
 },
 "nbformat": 4,
 "nbformat_minor": 2
}
